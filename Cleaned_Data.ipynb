{
  "nbformat": 4,
  "nbformat_minor": 0,
  "metadata": {
    "colab": {
      "name": "Cleaned_Data.ipynb",
      "provenance": []
    },
    "kernelspec": {
      "name": "python3",
      "display_name": "Python 3"
    },
    "language_info": {
      "name": "python"
    }
  },
  "cells": [
    {
      "cell_type": "code",
      "execution_count": 319,
      "metadata": {
        "id": "0mekscc194Qu"
      },
      "outputs": [],
      "source": [
        "#Import the required libraries needed to clean data\n",
        "from math import e\n",
        "import matplotlib.pyplot as plt\n",
        "import numpy as np\n",
        "import pandas as pd\n",
        "import seaborn as sns"
      ]
    },
    {
      "cell_type": "code",
      "source": [
        "# Load the data into the dataframe\n",
        "df = pd.read_csv('/content/raw_house_data.csv')"
      ],
      "metadata": {
        "id": "oeTcj_LQ-Bev"
      },
      "execution_count": 320,
      "outputs": []
    },
    {
      "cell_type": "code",
      "source": [
        "# Check the shape of the data\n",
        "df.shape"
      ],
      "metadata": {
        "id": "uPAYiWyVrx5j",
        "colab": {
          "base_uri": "https://localhost:8080/",
          "height": 0
        },
        "outputId": "932d027f-de23-49a8-9016-0b9810bc6120"
      },
      "execution_count": 321,
      "outputs": [
        {
          "output_type": "execute_result",
          "data": {
            "text/plain": [
              "(5000, 16)"
            ]
          },
          "metadata": {},
          "execution_count": 321
        }
      ]
    },
    {
      "cell_type": "code",
      "source": [
        "# Check the types of the data\n",
        "df.dtypes"
      ],
      "metadata": {
        "colab": {
          "base_uri": "https://localhost:8080/",
          "height": 0
        },
        "id": "KtbXrKxOzyy6",
        "outputId": "a15dc1f9-51f0-42de-f693-e0e79f6063aa"
      },
      "execution_count": 322,
      "outputs": [
        {
          "output_type": "execute_result",
          "data": {
            "text/plain": [
              "MLS                   int64\n",
              "sold_price          float64\n",
              "zipcode               int64\n",
              "longitude           float64\n",
              "latitude            float64\n",
              "lot_acres           float64\n",
              "taxes               float64\n",
              "year_built            int64\n",
              "bedrooms              int64\n",
              "bathrooms            object\n",
              "sqrt_ft              object\n",
              "garage               object\n",
              "kitchen_features     object\n",
              "fireplaces          float64\n",
              "floor_covering       object\n",
              "HOA                  object\n",
              "dtype: object"
            ]
          },
          "metadata": {},
          "execution_count": 322
        }
      ]
    },
    {
      "cell_type": "code",
      "source": [
        "# Create a list of the miissing values and change the missing values all to NaN\n",
        "missing_values = ['N/a', 'na', 'Null','None', np.nan]\n",
        "df = pd.read_csv('/content/raw_house_data.csv', na_values=missing_values)"
      ],
      "metadata": {
        "id": "GhyDId6g3zhf"
      },
      "execution_count": 323,
      "outputs": []
    },
    {
      "cell_type": "code",
      "source": [
        "# Check for the amount of missing value in each column\n",
        "df.isnull().sum()"
      ],
      "metadata": {
        "colab": {
          "base_uri": "https://localhost:8080/",
          "height": 0
        },
        "id": "B-csQVlsz6bs",
        "outputId": "7dd6d1ed-ffc6-4c1c-bb85-713714533caa"
      },
      "execution_count": 324,
      "outputs": [
        {
          "output_type": "execute_result",
          "data": {
            "text/plain": [
              "MLS                   0\n",
              "sold_price            0\n",
              "zipcode               0\n",
              "longitude             0\n",
              "latitude              0\n",
              "lot_acres            10\n",
              "taxes                 0\n",
              "year_built            0\n",
              "bedrooms              0\n",
              "bathrooms             6\n",
              "sqrt_ft              56\n",
              "garage                7\n",
              "kitchen_features     33\n",
              "fireplaces           25\n",
              "floor_covering        1\n",
              "HOA                 562\n",
              "dtype: int64"
            ]
          },
          "metadata": {},
          "execution_count": 324
        }
      ]
    },
    {
      "cell_type": "code",
      "source": [
        "# Check the percent of the value of missing data\n",
        "pct_missing = df.isnull().sum() * 100 / len(df)\n",
        "pct_missing"
      ],
      "metadata": {
        "colab": {
          "base_uri": "https://localhost:8080/",
          "height": 0
        },
        "id": "NIESQMMVz-Dq",
        "outputId": "c4106b1f-a05a-4291-e7fb-23a8e30f3fe1"
      },
      "execution_count": 325,
      "outputs": [
        {
          "output_type": "execute_result",
          "data": {
            "text/plain": [
              "MLS                  0.00\n",
              "sold_price           0.00\n",
              "zipcode              0.00\n",
              "longitude            0.00\n",
              "latitude             0.00\n",
              "lot_acres            0.20\n",
              "taxes                0.00\n",
              "year_built           0.00\n",
              "bedrooms             0.00\n",
              "bathrooms            0.12\n",
              "sqrt_ft              1.12\n",
              "garage               0.14\n",
              "kitchen_features     0.66\n",
              "fireplaces           0.50\n",
              "floor_covering       0.02\n",
              "HOA                 11.24\n",
              "dtype: float64"
            ]
          },
          "metadata": {},
          "execution_count": 325
        }
      ]
    },
    {
      "cell_type": "code",
      "source": [
        "# Seperate the numeric columns from the categorical columns\n",
        "# Numeric columns\n",
        "df_num = df.select_dtypes(include=[np.number])\n",
        "num_cols = df_num.columns.values.tolist()\n",
        "# Non-numeric columns\n",
        "df_non_num = df.select_dtypes(exclude=[np.number])\n",
        "non_num_cols = df_non_num.columns.values.tolist()\n",
        "non_num_cols"
      ],
      "metadata": {
        "id": "9mbSATFH0CBM",
        "colab": {
          "base_uri": "https://localhost:8080/",
          "height": 0
        },
        "outputId": "c994a2c9-ddd8-4c8a-b884-f792f0dc1b8a"
      },
      "execution_count": 326,
      "outputs": [
        {
          "output_type": "execute_result",
          "data": {
            "text/plain": [
              "['kitchen_features', 'floor_covering', 'HOA']"
            ]
          },
          "metadata": {},
          "execution_count": 326
        }
      ]
    },
    {
      "cell_type": "code",
      "source": [
        "# Drop the values which will not change the data significantly\n",
        "subset = ['garage', 'bathrooms', 'floor_covering']\n",
        "df1 = df.dropna(how='any', subset=subset)\n",
        "df1.shape"
      ],
      "metadata": {
        "colab": {
          "base_uri": "https://localhost:8080/",
          "height": 0
        },
        "id": "PcKyWjoTx703",
        "outputId": "b6e1dcf0-9d96-4e57-fdd8-d24190f296f8"
      },
      "execution_count": 327,
      "outputs": [
        {
          "output_type": "execute_result",
          "data": {
            "text/plain": [
              "(4987, 16)"
            ]
          },
          "metadata": {},
          "execution_count": 327
        }
      ]
    },
    {
      "cell_type": "code",
      "source": [
        "# Fill in the missing values\n",
        "\n",
        "mean_bathr = int(df1['bathrooms'].mean())\n",
        "mean_garage = int(df1['garage'].mean())\n",
        "mean_lot = int(df1['lot_acres'].mean())\n",
        "mean_fire = int(df1['fireplaces'].mean())\n",
        "mean_sqrt_ft = int(df1['sqrt_ft'].mean())\n",
        "kitch = 'No features in this house'\n",
        "\n",
        "df2 = df1.fillna({\n",
        "    'bathrooms': mean_bathr,\n",
        "    'garage': mean_garage,\n",
        "    'HOA': 0,\n",
        "    'fireplaces': mean_fire,\n",
        "    'lot_acres': mean_lot,\n",
        "    'sqrt_ft': mean_sqrt_ft,\n",
        "    'kitchen_features': kitch\n",
        "})\n",
        "df2.shape"
      ],
      "metadata": {
        "colab": {
          "base_uri": "https://localhost:8080/",
          "height": 0
        },
        "id": "J3smKnTCNe7d",
        "outputId": "00f85780-740a-4187-bd3e-f0f68c1533c7"
      },
      "execution_count": 328,
      "outputs": [
        {
          "output_type": "execute_result",
          "data": {
            "text/plain": [
              "(4987, 16)"
            ]
          },
          "metadata": {},
          "execution_count": 328
        }
      ]
    },
    {
      "cell_type": "code",
      "source": [
        "# Check that all missing data are filled\n",
        "df2.isnull().sum()"
      ],
      "metadata": {
        "colab": {
          "base_uri": "https://localhost:8080/",
          "height": 0
        },
        "id": "AZ_aRr8TSC7H",
        "outputId": "8f409a49-0e2f-448d-8a51-837103ebe39a"
      },
      "execution_count": 329,
      "outputs": [
        {
          "output_type": "execute_result",
          "data": {
            "text/plain": [
              "MLS                 0\n",
              "sold_price          0\n",
              "zipcode             0\n",
              "longitude           0\n",
              "latitude            0\n",
              "lot_acres           0\n",
              "taxes               0\n",
              "year_built          0\n",
              "bedrooms            0\n",
              "bathrooms           0\n",
              "sqrt_ft             0\n",
              "garage              0\n",
              "kitchen_features    0\n",
              "fireplaces          0\n",
              "floor_covering      0\n",
              "HOA                 0\n",
              "dtype: int64"
            ]
          },
          "metadata": {},
          "execution_count": 329
        }
      ]
    },
    {
      "cell_type": "markdown",
      "source": [
        "Use boxplots to check for outliers"
      ],
      "metadata": {
        "id": "7-4D5QlYhOEf"
      }
    },
    {
      "cell_type": "code",
      "source": [
        "sns.boxplot(x=df2['sold_price'])"
      ],
      "metadata": {
        "colab": {
          "base_uri": "https://localhost:8080/",
          "height": 298
        },
        "id": "NB-zjVv4hZTv",
        "outputId": "01aa0d8d-365f-4ec8-c629-08585cacabfc"
      },
      "execution_count": 330,
      "outputs": [
        {
          "output_type": "execute_result",
          "data": {
            "text/plain": [
              "<matplotlib.axes._subplots.AxesSubplot at 0x7fd219ccfa90>"
            ]
          },
          "metadata": {},
          "execution_count": 330
        },
        {
          "output_type": "display_data",
          "data": {
            "text/plain": [
              "<Figure size 432x288 with 1 Axes>"
            ],
            "image/png": "[encoded data removed]"
          },
          "metadata": {
            "needs_background": "light"
          }
        }
      ]
    },
    {
      "cell_type": "code",
      "source": [
        "sns.boxplot(x=df2['lot_acres'])"
      ],
      "metadata": {
        "colab": {
          "base_uri": "https://localhost:8080/",
          "height": 298
        },
        "id": "yGbpQO1eh5qL",
        "outputId": "216afc90-a191-45ea-ec27-64fddc1f6adc"
      },
      "execution_count": 331,
      "outputs": [
        {
          "output_type": "execute_result",
          "data": {
            "text/plain": [
              "<matplotlib.axes._subplots.AxesSubplot at 0x7fd22b1db210>"
            ]
          },
          "metadata": {},
          "execution_count": 331
        },
        {
          "output_type": "display_data",
          "data": {
            "text/plain": [
              "<Figure size 432x288 with 1 Axes>"
            ],
            "image/png": "[encoded data removed]"
          },
          "metadata": {
            "needs_background": "light"
          }
        }
      ]
    },
    {
      "cell_type": "code",
      "source": [
        "sns.boxplot(x=df2['taxes'])"
      ],
      "metadata": {
        "colab": {
          "base_uri": "https://localhost:8080/",
          "height": 297
        },
        "id": "Lib7mutDh-xi",
        "outputId": "e215b9dd-7532-4ed5-a7a7-11abcbbdb5ca"
      },
      "execution_count": 332,
      "outputs": [
        {
          "output_type": "execute_result",
          "data": {
            "text/plain": [
              "<matplotlib.axes._subplots.AxesSubplot at 0x7fd21ad84b10>"
            ]
          },
          "metadata": {},
          "execution_count": 332
        },
        {
          "output_type": "display_data",
          "data": {
            "text/plain": [
              "<Figure size 432x288 with 1 Axes>"
            ],
            "image/png": "[encoded data removed]"
          },
          "metadata": {
            "needs_background": "light"
          }
        }
      ]
    },
    {
      "cell_type": "code",
      "source": [
        "sns.boxplot(x=df2['bedrooms'])"
      ],
      "metadata": {
        "colab": {
          "base_uri": "https://localhost:8080/",
          "height": 297
        },
        "id": "xJyilwyVYpXJ",
        "outputId": "2aae2a1a-4484-4c76-8785-0b5ac85e367f"
      },
      "execution_count": 333,
      "outputs": [
        {
          "output_type": "execute_result",
          "data": {
            "text/plain": [
              "<matplotlib.axes._subplots.AxesSubplot at 0x7fd219f02a10>"
            ]
          },
          "metadata": {},
          "execution_count": 333
        },
        {
          "output_type": "display_data",
          "data": {
            "text/plain": [
              "<Figure size 432x288 with 1 Axes>"
            ],
            "image/png": "[encoded data removed]"
          },
          "metadata": {
            "needs_background": "light"
          }
        }
      ]
    },
    {
      "cell_type": "code",
      "source": [
        "sns.boxplot(x=df2['year_built'])"
      ],
      "metadata": {
        "colab": {
          "base_uri": "https://localhost:8080/",
          "height": 298
        },
        "id": "cT0LxE9IiXID",
        "outputId": "a6b3869d-d01e-4d62-e0b4-fc3e45af9555"
      },
      "execution_count": 334,
      "outputs": [
        {
          "output_type": "execute_result",
          "data": {
            "text/plain": [
              "<matplotlib.axes._subplots.AxesSubplot at 0x7fd22b1af4d0>"
            ]
          },
          "metadata": {},
          "execution_count": 334
        },
        {
          "output_type": "display_data",
          "data": {
            "text/plain": [
              "<Figure size 432x288 with 1 Axes>"
            ],
            "image/png": "[encoded data removed]"
          },
          "metadata": {
            "needs_background": "light"
          }
        }
      ]
    },
    {
      "cell_type": "code",
      "source": [
        "sns.boxplot(x=df2['bathrooms'])"
      ],
      "metadata": {
        "colab": {
          "base_uri": "https://localhost:8080/",
          "height": 297
        },
        "id": "YlvknfFWY6zM",
        "outputId": "84cd3d8f-98e7-4925-c0ee-e131b866966a"
      },
      "execution_count": 335,
      "outputs": [
        {
          "output_type": "execute_result",
          "data": {
            "text/plain": [
              "<matplotlib.axes._subplots.AxesSubplot at 0x7fd219d07910>"
            ]
          },
          "metadata": {},
          "execution_count": 335
        },
        {
          "output_type": "display_data",
          "data": {
            "text/plain": [
              "<Figure size 432x288 with 1 Axes>"
            ],
            "image/png": "[encoded data removed]"
          },
          "metadata": {
            "needs_background": "light"
          }
        }
      ]
    },
    {
      "cell_type": "code",
      "source": [
        "sns.boxplot(x=df2['garage'])"
      ],
      "metadata": {
        "colab": {
          "base_uri": "https://localhost:8080/",
          "height": 297
        },
        "id": "wAE5U1kFaPsZ",
        "outputId": "96c516ff-a4e4-467b-e09d-e4034c63110a"
      },
      "execution_count": 336,
      "outputs": [
        {
          "output_type": "execute_result",
          "data": {
            "text/plain": [
              "<matplotlib.axes._subplots.AxesSubplot at 0x7fd21aeb2350>"
            ]
          },
          "metadata": {},
          "execution_count": 336
        },
        {
          "output_type": "display_data",
          "data": {
            "text/plain": [
              "<Figure size 432x288 with 1 Axes>"
            ],
            "image/png": "[encoded data removed]"
          },
          "metadata": {
            "needs_background": "light"
          }
        }
      ]
    },
    {
      "cell_type": "code",
      "source": [
        "sns.boxplot(x=df2['fireplaces'])"
      ],
      "metadata": {
        "colab": {
          "base_uri": "https://localhost:8080/",
          "height": 297
        },
        "id": "45bY6-wBaTtu",
        "outputId": "2368a257-971b-4e8a-8347-414e677ea272"
      },
      "execution_count": 337,
      "outputs": [
        {
          "output_type": "execute_result",
          "data": {
            "text/plain": [
              "<matplotlib.axes._subplots.AxesSubplot at 0x7fd21af07150>"
            ]
          },
          "metadata": {},
          "execution_count": 337
        },
        {
          "output_type": "display_data",
          "data": {
            "text/plain": [
              "<Figure size 432x288 with 1 Axes>"
            ],
            "image/png": "[encoded data removed]"
          },
          "metadata": {
            "needs_background": "light"
          }
        }
      ]
    },
    {
      "cell_type": "code",
      "source": [
        "sns.boxplot(x=df2['sqrt_ft'])"
      ],
      "metadata": {
        "colab": {
          "base_uri": "https://localhost:8080/",
          "height": 298
        },
        "id": "ffEhKFSdiv-X",
        "outputId": "16887224-4e2d-4540-b0da-4d7ddbf2e082"
      },
      "execution_count": 338,
      "outputs": [
        {
          "output_type": "execute_result",
          "data": {
            "text/plain": [
              "<matplotlib.axes._subplots.AxesSubplot at 0x7fd21af79250>"
            ]
          },
          "metadata": {},
          "execution_count": 338
        },
        {
          "output_type": "display_data",
          "data": {
            "text/plain": [
              "<Figure size 432x288 with 1 Axes>"
            ],
            "image/png": "[encoded data removed]"
          },
          "metadata": {
            "needs_background": "light"
          }
        }
      ]
    },
    {
      "cell_type": "markdown",
      "source": [
        "Delete all the outliers using reasonable conditioning\n",
        "Than replot the data in box plots to compare."
      ],
      "metadata": {
        "id": "Rm1O6N7Q4sVl"
      }
    },
    {
      "cell_type": "code",
      "source": [
        "df3 = df2.drop(df2[df2['lot_acres'].values > 40].index)\n",
        "sns.boxplot(x=df3['lot_acres'])"
      ],
      "metadata": {
        "colab": {
          "base_uri": "https://localhost:8080/",
          "height": 298
        },
        "id": "Wfg-Ydk3i4Sj",
        "outputId": "d68c7997-6486-4145-974c-19a31d146a91"
      },
      "execution_count": 339,
      "outputs": [
        {
          "output_type": "execute_result",
          "data": {
            "text/plain": [
              "<matplotlib.axes._subplots.AxesSubplot at 0x7fd21ae1a050>"
            ]
          },
          "metadata": {},
          "execution_count": 339
        },
        {
          "output_type": "display_data",
          "data": {
            "text/plain": [
              "<Figure size 432x288 with 1 Axes>"
            ],
            "image/png": "[encoded data removed]"
          },
          "metadata": {
            "needs_background": "light"
          }
        }
      ]
    },
    {
      "cell_type": "code",
      "source": [
        "df4 = df3.drop(df3[df3['taxes'].values > 40000].index)\n",
        "df5 = df4.drop(df4[df4['taxes'].values < 200].index)\n",
        "sns.boxplot(x=df5['taxes'])"
      ],
      "metadata": {
        "colab": {
          "base_uri": "https://localhost:8080/",
          "height": 297
        },
        "id": "g9Xq1vMewjPn",
        "outputId": "888e46bc-8982-4950-aeed-ef1f4aad855f"
      },
      "execution_count": 340,
      "outputs": [
        {
          "output_type": "execute_result",
          "data": {
            "text/plain": [
              "<matplotlib.axes._subplots.AxesSubplot at 0x7fd21ad358d0>"
            ]
          },
          "metadata": {},
          "execution_count": 340
        },
        {
          "output_type": "display_data",
          "data": {
            "text/plain": [
              "<Figure size 432x288 with 1 Axes>"
            ],
            "image/png": "[encoded data removed]"
          },
          "metadata": {
            "needs_background": "light"
          }
        }
      ]
    },
    {
      "cell_type": "code",
      "source": [
        "df6 = df5.drop(df5[df5['bathrooms'].values > 11].index)\n",
        "sns.boxplot(x=df6['bathrooms'])"
      ],
      "metadata": {
        "colab": {
          "base_uri": "https://localhost:8080/",
          "height": 297
        },
        "id": "75oO5F7exTLh",
        "outputId": "0841e84c-d3a9-40f4-d8ad-e2cb1efe7791"
      },
      "execution_count": 341,
      "outputs": [
        {
          "output_type": "execute_result",
          "data": {
            "text/plain": [
              "<matplotlib.axes._subplots.AxesSubplot at 0x7fd219eac5d0>"
            ]
          },
          "metadata": {},
          "execution_count": 341
        },
        {
          "output_type": "display_data",
          "data": {
            "text/plain": [
              "<Figure size 432x288 with 1 Axes>"
            ],
            "image/png": "[encoded data removed]"
          },
          "metadata": {
            "needs_background": "light"
          }
        }
      ]
    },
    {
      "cell_type": "code",
      "source": [
        "df7 = df6.drop(df6[df6['bedrooms'].values > 15].index)\n",
        "sns.boxplot(x=df6['bedrooms'])"
      ],
      "metadata": {
        "colab": {
          "base_uri": "https://localhost:8080/",
          "height": 297
        },
        "id": "0LUXFt9azQur",
        "outputId": "f36a3e26-b57d-49a5-befc-955580c49a06"
      },
      "execution_count": 342,
      "outputs": [
        {
          "output_type": "execute_result",
          "data": {
            "text/plain": [
              "<matplotlib.axes._subplots.AxesSubplot at 0x7fd21adb8150>"
            ]
          },
          "metadata": {},
          "execution_count": 342
        },
        {
          "output_type": "display_data",
          "data": {
            "text/plain": [
              "<Figure size 432x288 with 1 Axes>"
            ],
            "image/png": "[encoded data removed]"
          },
          "metadata": {
            "needs_background": "light"
          }
        }
      ]
    },
    {
      "cell_type": "code",
      "source": [
        "df8 = df7.drop(df7[df7['year_built'].values < 1800].index)\n",
        "sns.boxplot(x=df8['year_built'])"
      ],
      "metadata": {
        "colab": {
          "base_uri": "https://localhost:8080/",
          "height": 298
        },
        "id": "Cclw_JLYzmol",
        "outputId": "ed4de0a8-28ef-48e4-8d06-334fab34b2ed"
      },
      "execution_count": 343,
      "outputs": [
        {
          "output_type": "execute_result",
          "data": {
            "text/plain": [
              "<matplotlib.axes._subplots.AxesSubplot at 0x7fd219e100d0>"
            ]
          },
          "metadata": {},
          "execution_count": 343
        },
        {
          "output_type": "display_data",
          "data": {
            "text/plain": [
              "<Figure size 432x288 with 1 Axes>"
            ],
            "image/png": "[encoded data removed]"
          },
          "metadata": {
            "needs_background": "light"
          }
        }
      ]
    },
    {
      "cell_type": "code",
      "source": [
        "df9 = df8.drop(df8[df8['garage'].values > 19].index)\n",
        "sns.boxplot(x=df9['garage'])"
      ],
      "metadata": {
        "colab": {
          "base_uri": "https://localhost:8080/",
          "height": 297
        },
        "id": "Y81kWmBR0bGO",
        "outputId": "9aea2864-8186-4a6a-bf39-36fd291281c1"
      },
      "execution_count": 344,
      "outputs": [
        {
          "output_type": "execute_result",
          "data": {
            "text/plain": [
              "<matplotlib.axes._subplots.AxesSubplot at 0x7fd219d2bc50>"
            ]
          },
          "metadata": {},
          "execution_count": 344
        },
        {
          "output_type": "display_data",
          "data": {
            "text/plain": [
              "<Figure size 432x288 with 1 Axes>"
            ],
            "image/png": "[encoded data removed]"
          },
          "metadata": {
            "needs_background": "light"
          }
        }
      ]
    },
    {
      "cell_type": "code",
      "source": [
        "df10 = df9.drop(df9[df9['sqrt_ft'].values > 7000].index)\n",
        "sns.boxplot(x=df9['sqrt_ft'])"
      ],
      "metadata": {
        "colab": {
          "base_uri": "https://localhost:8080/",
          "height": 298
        },
        "id": "dr7GWqVd2R82",
        "outputId": "82bb3c4d-f996-423d-911d-408bdf6b12e4"
      },
      "execution_count": 345,
      "outputs": [
        {
          "output_type": "execute_result",
          "data": {
            "text/plain": [
              "<matplotlib.axes._subplots.AxesSubplot at 0x7fd219c21310>"
            ]
          },
          "metadata": {},
          "execution_count": 345
        },
        {
          "output_type": "display_data",
          "data": {
            "text/plain": [
              "<Figure size 432x288 with 1 Axes>"
            ],
            "image/png": "[encoded data removed]"
          },
          "metadata": {
            "needs_background": "light"
          }
        }
      ]
    },
    {
      "cell_type": "code",
      "source": [
        "# Create a correlation matrix\n",
        "corr_Matrix = df10.corr()\n",
        "corr_Matrix"
      ],
      "metadata": {
        "colab": {
          "base_uri": "https://localhost:8080/",
          "height": 521
        },
        "id": "x0mziBRNcwPD",
        "outputId": "ee8dd9c8-b2b1-4052-f9a8-7c9e03e187db"
      },
      "execution_count": 346,
      "outputs": [
        {
          "output_type": "execute_result",
          "data": {
            "text/plain": [
              "                 MLS  sold_price   zipcode  longitude  latitude  lot_acres  \\\n",
              "MLS         1.000000    0.051879  0.302809   0.099656  0.429567  -0.073779   \n",
              "sold_price  0.051879    1.000000 -0.022840  -0.056518  0.107893   0.038014   \n",
              "zipcode     0.302809   -0.022840  1.000000   0.126317  0.383434  -0.133165   \n",
              "longitude   0.099656   -0.056518  0.126317   1.000000 -0.257204   0.237570   \n",
              "latitude    0.429567    0.107893  0.383434  -0.257204  1.000000  -0.287124   \n",
              "lot_acres  -0.073779    0.038014 -0.133165   0.237570 -0.287124   1.000000   \n",
              "taxes       0.057243    0.585676  0.034483  -0.066560  0.093611   0.085303   \n",
              "year_built -0.029297    0.151996 -0.019384  -0.112865  0.150004  -0.029211   \n",
              "bedrooms    0.077994    0.119525  0.135940   0.098729 -0.036289   0.034582   \n",
              "bathrooms   0.006708    0.443522 -0.003857   0.005470 -0.009508   0.034142   \n",
              "sqrt_ft    -0.023965    0.553879  0.044056   0.070505 -0.059961   0.098509   \n",
              "garage     -0.012078    0.123937  0.074675  -0.025356  0.054339   0.032552   \n",
              "fireplaces -0.009334    0.372831  0.014574   0.054102 -0.043503   0.078238   \n",
              "\n",
              "               taxes  year_built  bedrooms  bathrooms   sqrt_ft    garage  \\\n",
              "MLS         0.057243   -0.029297  0.077994   0.006708 -0.023965 -0.012078   \n",
              "sold_price  0.585676    0.151996  0.119525   0.443522  0.553879  0.123937   \n",
              "zipcode     0.034483   -0.019384  0.135940  -0.003857  0.044056  0.074675   \n",
              "longitude  -0.066560   -0.112865  0.098729   0.005470  0.070505 -0.025356   \n",
              "latitude    0.093611    0.150004 -0.036289  -0.009508 -0.059961  0.054339   \n",
              "lot_acres   0.085303   -0.029211  0.034582   0.034142  0.098509  0.032552   \n",
              "taxes       1.000000    0.100640  0.191703   0.415311  0.589654  0.191206   \n",
              "year_built  0.100640    1.000000 -0.139317   0.029608 -0.000239  0.354659   \n",
              "bedrooms    0.191703   -0.139317  1.000000   0.469937  0.496829  0.151344   \n",
              "bathrooms   0.415311    0.029608  0.469937   1.000000  0.688560  0.228994   \n",
              "sqrt_ft     0.589654   -0.000239  0.496829   0.688560  1.000000  0.273126   \n",
              "garage      0.191206    0.354659  0.151344   0.228994  0.273126  1.000000   \n",
              "fireplaces  0.412471   -0.106490  0.188613   0.283723  0.414710  0.073683   \n",
              "\n",
              "            fireplaces  \n",
              "MLS          -0.009334  \n",
              "sold_price    0.372831  \n",
              "zipcode       0.014574  \n",
              "longitude     0.054102  \n",
              "latitude     -0.043503  \n",
              "lot_acres     0.078238  \n",
              "taxes         0.412471  \n",
              "year_built   -0.106490  \n",
              "bedrooms      0.188613  \n",
              "bathrooms     0.283723  \n",
              "sqrt_ft       0.414710  \n",
              "garage        0.073683  \n",
              "fireplaces    1.000000  "
            ],
            "text/html": [
              "\n",
              "  <div id=\"df-750dd536-ef5e-4348-b29f-071901cfeab4\">\n",
              "    <div class=\"colab-df-container\">\n",
              "      <div>\n",
              "<style scoped>\n",
              "    .dataframe tbody tr th:only-of-type {\n",
              "        vertical-align: middle;\n",
              "    }\n",
              "\n",
              "    .dataframe tbody tr th {\n",
              "        vertical-align: top;\n",
              "    }\n",
              "\n",
              "    .dataframe thead th {\n",
              "        text-align: right;\n",
              "    }\n",
              "</style>\n",
              "<table border=\"1\" class=\"dataframe\">\n",
              "  <thead>\n",
              "    <tr style=\"text-align: right;\">\n",
              "      <th></th>\n",
              "      <th>MLS</th>\n",
              "      <th>sold_price</th>\n",
              "      <th>zipcode</th>\n",
              "      <th>longitude</th>\n",
              "      <th>latitude</th>\n",
              "      <th>lot_acres</th>\n",
              "      <th>taxes</th>\n",
              "      <th>year_built</th>\n",
              "      <th>bedrooms</th>\n",
              "      <th>bathrooms</th>\n",
              "      <th>sqrt_ft</th>\n",
              "      <th>garage</th>\n",
              "      <th>fireplaces</th>\n",
              "    </tr>\n",
              "  </thead>\n",
              "  <tbody>\n",
              "    <tr>\n",
              "      <th>MLS</th>\n",
              "      <td>1.000000</td>\n",
              "      <td>0.051879</td>\n",
              "      <td>0.302809</td>\n",
              "      <td>0.099656</td>\n",
              "      <td>0.429567</td>\n",
              "      <td>-0.073779</td>\n",
              "      <td>0.057243</td>\n",
              "      <td>-0.029297</td>\n",
              "      <td>0.077994</td>\n",
              "      <td>0.006708</td>\n",
              "      <td>-0.023965</td>\n",
              "      <td>-0.012078</td>\n",
              "      <td>-0.009334</td>\n",
              "    </tr>\n",
              "    <tr>\n",
              "      <th>sold_price</th>\n",
              "      <td>0.051879</td>\n",
              "      <td>1.000000</td>\n",
              "      <td>-0.022840</td>\n",
              "      <td>-0.056518</td>\n",
              "      <td>0.107893</td>\n",
              "      <td>0.038014</td>\n",
              "      <td>0.585676</td>\n",
              "      <td>0.151996</td>\n",
              "      <td>0.119525</td>\n",
              "      <td>0.443522</td>\n",
              "      <td>0.553879</td>\n",
              "      <td>0.123937</td>\n",
              "      <td>0.372831</td>\n",
              "    </tr>\n",
              "    <tr>\n",
              "      <th>zipcode</th>\n",
              "      <td>0.302809</td>\n",
              "      <td>-0.022840</td>\n",
              "      <td>1.000000</td>\n",
              "      <td>0.126317</td>\n",
              "      <td>0.383434</td>\n",
              "      <td>-0.133165</td>\n",
              "      <td>0.034483</td>\n",
              "      <td>-0.019384</td>\n",
              "      <td>0.135940</td>\n",
              "      <td>-0.003857</td>\n",
              "      <td>0.044056</td>\n",
              "      <td>0.074675</td>\n",
              "      <td>0.014574</td>\n",
              "    </tr>\n",
              "    <tr>\n",
              "      <th>longitude</th>\n",
              "      <td>0.099656</td>\n",
              "      <td>-0.056518</td>\n",
              "      <td>0.126317</td>\n",
              "      <td>1.000000</td>\n",
              "      <td>-0.257204</td>\n",
              "      <td>0.237570</td>\n",
              "      <td>-0.066560</td>\n",
              "      <td>-0.112865</td>\n",
              "      <td>0.098729</td>\n",
              "      <td>0.005470</td>\n",
              "      <td>0.070505</td>\n",
              "      <td>-0.025356</td>\n",
              "      <td>0.054102</td>\n",
              "    </tr>\n",
              "    <tr>\n",
              "      <th>latitude</th>\n",
              "      <td>0.429567</td>\n",
              "      <td>0.107893</td>\n",
              "      <td>0.383434</td>\n",
              "      <td>-0.257204</td>\n",
              "      <td>1.000000</td>\n",
              "      <td>-0.287124</td>\n",
              "      <td>0.093611</td>\n",
              "      <td>0.150004</td>\n",
              "      <td>-0.036289</td>\n",
              "      <td>-0.009508</td>\n",
              "      <td>-0.059961</td>\n",
              "      <td>0.054339</td>\n",
              "      <td>-0.043503</td>\n",
              "    </tr>\n",
              "    <tr>\n",
              "      <th>lot_acres</th>\n",
              "      <td>-0.073779</td>\n",
              "      <td>0.038014</td>\n",
              "      <td>-0.133165</td>\n",
              "      <td>0.237570</td>\n",
              "      <td>-0.287124</td>\n",
              "      <td>1.000000</td>\n",
              "      <td>0.085303</td>\n",
              "      <td>-0.029211</td>\n",
              "      <td>0.034582</td>\n",
              "      <td>0.034142</td>\n",
              "      <td>0.098509</td>\n",
              "      <td>0.032552</td>\n",
              "      <td>0.078238</td>\n",
              "    </tr>\n",
              "    <tr>\n",
              "      <th>taxes</th>\n",
              "      <td>0.057243</td>\n",
              "      <td>0.585676</td>\n",
              "      <td>0.034483</td>\n",
              "      <td>-0.066560</td>\n",
              "      <td>0.093611</td>\n",
              "      <td>0.085303</td>\n",
              "      <td>1.000000</td>\n",
              "      <td>0.100640</td>\n",
              "      <td>0.191703</td>\n",
              "      <td>0.415311</td>\n",
              "      <td>0.589654</td>\n",
              "      <td>0.191206</td>\n",
              "      <td>0.412471</td>\n",
              "    </tr>\n",
              "    <tr>\n",
              "      <th>year_built</th>\n",
              "      <td>-0.029297</td>\n",
              "      <td>0.151996</td>\n",
              "      <td>-0.019384</td>\n",
              "      <td>-0.112865</td>\n",
              "      <td>0.150004</td>\n",
              "      <td>-0.029211</td>\n",
              "      <td>0.100640</td>\n",
              "      <td>1.000000</td>\n",
              "      <td>-0.139317</td>\n",
              "      <td>0.029608</td>\n",
              "      <td>-0.000239</td>\n",
              "      <td>0.354659</td>\n",
              "      <td>-0.106490</td>\n",
              "    </tr>\n",
              "    <tr>\n",
              "      <th>bedrooms</th>\n",
              "      <td>0.077994</td>\n",
              "      <td>0.119525</td>\n",
              "      <td>0.135940</td>\n",
              "      <td>0.098729</td>\n",
              "      <td>-0.036289</td>\n",
              "      <td>0.034582</td>\n",
              "      <td>0.191703</td>\n",
              "      <td>-0.139317</td>\n",
              "      <td>1.000000</td>\n",
              "      <td>0.469937</td>\n",
              "      <td>0.496829</td>\n",
              "      <td>0.151344</td>\n",
              "      <td>0.188613</td>\n",
              "    </tr>\n",
              "    <tr>\n",
              "      <th>bathrooms</th>\n",
              "      <td>0.006708</td>\n",
              "      <td>0.443522</td>\n",
              "      <td>-0.003857</td>\n",
              "      <td>0.005470</td>\n",
              "      <td>-0.009508</td>\n",
              "      <td>0.034142</td>\n",
              "      <td>0.415311</td>\n",
              "      <td>0.029608</td>\n",
              "      <td>0.469937</td>\n",
              "      <td>1.000000</td>\n",
              "      <td>0.688560</td>\n",
              "      <td>0.228994</td>\n",
              "      <td>0.283723</td>\n",
              "    </tr>\n",
              "    <tr>\n",
              "      <th>sqrt_ft</th>\n",
              "      <td>-0.023965</td>\n",
              "      <td>0.553879</td>\n",
              "      <td>0.044056</td>\n",
              "      <td>0.070505</td>\n",
              "      <td>-0.059961</td>\n",
              "      <td>0.098509</td>\n",
              "      <td>0.589654</td>\n",
              "      <td>-0.000239</td>\n",
              "      <td>0.496829</td>\n",
              "      <td>0.688560</td>\n",
              "      <td>1.000000</td>\n",
              "      <td>0.273126</td>\n",
              "      <td>0.414710</td>\n",
              "    </tr>\n",
              "    <tr>\n",
              "      <th>garage</th>\n",
              "      <td>-0.012078</td>\n",
              "      <td>0.123937</td>\n",
              "      <td>0.074675</td>\n",
              "      <td>-0.025356</td>\n",
              "      <td>0.054339</td>\n",
              "      <td>0.032552</td>\n",
              "      <td>0.191206</td>\n",
              "      <td>0.354659</td>\n",
              "      <td>0.151344</td>\n",
              "      <td>0.228994</td>\n",
              "      <td>0.273126</td>\n",
              "      <td>1.000000</td>\n",
              "      <td>0.073683</td>\n",
              "    </tr>\n",
              "    <tr>\n",
              "      <th>fireplaces</th>\n",
              "      <td>-0.009334</td>\n",
              "      <td>0.372831</td>\n",
              "      <td>0.014574</td>\n",
              "      <td>0.054102</td>\n",
              "      <td>-0.043503</td>\n",
              "      <td>0.078238</td>\n",
              "      <td>0.412471</td>\n",
              "      <td>-0.106490</td>\n",
              "      <td>0.188613</td>\n",
              "      <td>0.283723</td>\n",
              "      <td>0.414710</td>\n",
              "      <td>0.073683</td>\n",
              "      <td>1.000000</td>\n",
              "    </tr>\n",
              "  </tbody>\n",
              "</table>\n",
              "</div>\n",
              "      <button class=\"colab-df-convert\" onclick=\"convertToInteractive('df-750dd536-ef5e-4348-b29f-071901cfeab4')\"\n",
              "              title=\"Convert this dataframe to an interactive table.\"\n",
              "              style=\"display:none;\">\n",
              "        \n",
              "  <svg xmlns=\"http://www.w3.org/2000/svg\" height=\"24px\"viewBox=\"0 0 24 24\"\n",
              "       width=\"24px\">\n",
              "    <path d=\"M0 0h24v24H0V0z\" fill=\"none\"/>\n",
              "    <path d=\"M18.56 5.44l.94 2.06.94-2.06 2.06-.94-2.06-.94-.94-2.06-.94 2.06-2.06.94zm-11 1L8.5 8.5l.94-2.06 2.06-.94-2.06-.94L8.5 2.5l-.94 2.06-2.06.94zm10 10l.94 2.06.94-2.06 2.06-.94-2.06-.94-.94-2.06-.94 2.06-2.06.94z\"/><path d=\"M17.41 7.96l-1.37-1.37c-.4-.4-.92-.59-1.43-.59-.52 0-1.04.2-1.43.59L10.3 9.45l-7.72 7.72c-.78.78-.78 2.05 0 2.83L4 21.41c.39.39.9.59 1.41.59.51 0 1.02-.2 1.41-.59l7.78-7.78 2.81-2.81c.8-.78.8-2.07 0-2.86zM5.41 20L4 18.59l7.72-7.72 1.47 1.35L5.41 20z\"/>\n",
              "  </svg>\n",
              "      </button>\n",
              "      \n",
              "  <style>\n",
              "    .colab-df-container {\n",
              "      display:flex;\n",
              "      flex-wrap:wrap;\n",
              "      gap: 12px;\n",
              "    }\n",
              "\n",
              "    .colab-df-convert {\n",
              "      background-color: #E8F0FE;\n",
              "      border: none;\n",
              "      border-radius: 50%;\n",
              "      cursor: pointer;\n",
              "      display: none;\n",
              "      fill: #1967D2;\n",
              "      height: 32px;\n",
              "      padding: 0 0 0 0;\n",
              "      width: 32px;\n",
              "    }\n",
              "\n",
              "    .colab-df-convert:hover {\n",
              "      background-color: #E2EBFA;\n",
              "      box-shadow: 0px 1px 2px rgba(60, 64, 67, 0.3), 0px 1px 3px 1px rgba(60, 64, 67, 0.15);\n",
              "      fill: #174EA6;\n",
              "    }\n",
              "\n",
              "    [theme=dark] .colab-df-convert {\n",
              "      background-color: #3B4455;\n",
              "      fill: #D2E3FC;\n",
              "    }\n",
              "\n",
              "    [theme=dark] .colab-df-convert:hover {\n",
              "      background-color: #434B5C;\n",
              "      box-shadow: 0px 1px 3px 1px rgba(0, 0, 0, 0.15);\n",
              "      filter: drop-shadow(0px 1px 2px rgba(0, 0, 0, 0.3));\n",
              "      fill: #FFFFFF;\n",
              "    }\n",
              "  </style>\n",
              "\n",
              "      <script>\n",
              "        const buttonEl =\n",
              "          document.querySelector('#df-750dd536-ef5e-4348-b29f-071901cfeab4 button.colab-df-convert');\n",
              "        buttonEl.style.display =\n",
              "          google.colab.kernel.accessAllowed ? 'block' : 'none';\n",
              "\n",
              "        async function convertToInteractive(key) {\n",
              "          const element = document.querySelector('#df-750dd536-ef5e-4348-b29f-071901cfeab4');\n",
              "          const dataTable =\n",
              "            await google.colab.kernel.invokeFunction('convertToInteractive',\n",
              "                                                     [key], {});\n",
              "          if (!dataTable) return;\n",
              "\n",
              "          const docLinkHtml = 'Like what you see? Visit the ' +\n",
              "            '<a target=\"_blank\" href=https://colab.research.google.com/notebooks/data_table.ipynb>data table notebook</a>'\n",
              "            + ' to learn more about interactive tables.';\n",
              "          element.innerHTML = '';\n",
              "          dataTable['output_type'] = 'display_data';\n",
              "          await google.colab.output.renderOutput(dataTable, element);\n",
              "          const docLink = document.createElement('div');\n",
              "          docLink.innerHTML = docLinkHtml;\n",
              "          element.appendChild(docLink);\n",
              "        }\n",
              "      </script>\n",
              "    </div>\n",
              "  </div>\n",
              "  "
            ]
          },
          "metadata": {},
          "execution_count": 346
        }
      ]
    },
    {
      "cell_type": "code",
      "source": [
        "# Plot the correlation on a heatmap\n",
        "\n",
        "sns.heatmap(corr_Matrix, annot=False)\n",
        "plt.show()"
      ],
      "metadata": {
        "colab": {
          "base_uri": "https://localhost:8080/",
          "height": 313
        },
        "id": "gNKZzDwya486",
        "outputId": "e5403dce-49d7-4581-cb0e-731168896de1"
      },
      "execution_count": 347,
      "outputs": [
        {
          "output_type": "display_data",
          "data": {
            "text/plain": [
              "<Figure size 432x288 with 2 Axes>"
            ],
            "image/png": "[encoded data removed]"
          },
          "metadata": {
            "needs_background": "light"
          }
        }
      ]
    },
    {
      "cell_type": "code",
      "source": [
        "# PLot the Prces of each house with respect to the zipcode\n",
        "\n",
        "plt.title(\"Prices of Houses VS Zipcode\")\n",
        "plt.xlabel(\"Zipcode\")\n",
        "plt.ylabel(\"Price of houses\")\n",
        "plt.scatter(df10['zipcode'], df10['sold_price'])"
      ],
      "metadata": {
        "colab": {
          "base_uri": "https://localhost:8080/",
          "height": 313
        },
        "id": "VyrUDWzpeXgC",
        "outputId": "04fca07a-50b8-48fb-da2c-4d001c69d20f"
      },
      "execution_count": 359,
      "outputs": [
        {
          "output_type": "execute_result",
          "data": {
            "text/plain": [
              "<matplotlib.collections.PathCollection at 0x7fd21966b6d0>"
            ]
          },
          "metadata": {},
          "execution_count": 359
        },
        {
          "output_type": "display_data",
          "data": {
            "text/plain": [
              "<Figure size 432x288 with 1 Axes>"
            ],
            "image/png": "[encoded data removed]"
          },
          "metadata": {
            "needs_background": "light"
          }
        }
      ]
    },
    {
      "cell_type": "code",
      "source": [
        "# Plot the taxes the houses with respect to the zipcode\n",
        "\n",
        "plt.title(\"Taxes of houses VS Zipcode\")\n",
        "plt.xlabel(\"Zipcode\")\n",
        "plt.ylabel(\"Taxes\")\n",
        "plt.scatter(df10['zipcode'], df10['taxes'])"
      ],
      "metadata": {
        "colab": {
          "base_uri": "https://localhost:8080/",
          "height": 313
        },
        "id": "_t1bpH9_fSh8",
        "outputId": "fb86cd86-4767-4606-d9cd-eae9df5c0c73"
      },
      "execution_count": 349,
      "outputs": [
        {
          "output_type": "execute_result",
          "data": {
            "text/plain": [
              "<matplotlib.collections.PathCollection at 0x7fd219aa0450>"
            ]
          },
          "metadata": {},
          "execution_count": 349
        },
        {
          "output_type": "display_data",
          "data": {
            "text/plain": [
              "<Figure size 432x288 with 1 Axes>"
            ],
            "image/png": "[encoded data removed]"
          },
          "metadata": {
            "needs_background": "light"
          }
        }
      ]
    },
    {
      "cell_type": "code",
      "source": [
        "#PLot the number of bedrooms with respect to the price of houses\n",
        "\n",
        "plt.title(\"Number of Bedrooms VS Price of Houses\")\n",
        "plt.xlabel(\"Price of House\")\n",
        "plt.ylabel(\"Number of bedrooms\")\n",
        "plt.scatter(df10['sold_price'], df10['bedrooms'])"
      ],
      "metadata": {
        "colab": {
          "base_uri": "https://localhost:8080/",
          "height": 313
        },
        "id": "wDHcG0Dw8rHN",
        "outputId": "74831d16-5ef8-4f9e-a447-46e9ea1e2ae0"
      },
      "execution_count": 350,
      "outputs": [
        {
          "output_type": "execute_result",
          "data": {
            "text/plain": [
              "<matplotlib.collections.PathCollection at 0x7fd219a0b850>"
            ]
          },
          "metadata": {},
          "execution_count": 350
        },
        {
          "output_type": "display_data",
          "data": {
            "text/plain": [
              "<Figure size 432x288 with 1 Axes>"
            ],
            "image/png": "[encoded data removed]"
          },
          "metadata": {
            "needs_background": "light"
          }
        }
      ]
    },
    {
      "cell_type": "code",
      "source": [
        "# Plot the numer of bathrooms with respect to prices of houses\n",
        "\n",
        "plt.title(\"Number of Bathrooms VS Price of Houses\")\n",
        "plt.xlabel(\"Price of House\")\n",
        "plt.ylabel(\"Number of bathrooms\")\n",
        "plt.scatter(df10['sold_price'], df10['bathrooms'])"
      ],
      "metadata": {
        "colab": {
          "base_uri": "https://localhost:8080/",
          "height": 313
        },
        "id": "6mTKVFCz8zNZ",
        "outputId": "4d73748b-a1ab-4472-e4e0-5516622c072b"
      },
      "execution_count": 353,
      "outputs": [
        {
          "output_type": "execute_result",
          "data": {
            "text/plain": [
              "<matplotlib.collections.PathCollection at 0x7fd2198c9210>"
            ]
          },
          "metadata": {},
          "execution_count": 353
        },
        {
          "output_type": "display_data",
          "data": {
            "text/plain": [
              "<Figure size 432x288 with 1 Axes>"
            ],
            "image/png": "[encoded data removed]"
          },
          "metadata": {
            "needs_background": "light"
          }
        }
      ]
    },
    {
      "cell_type": "code",
      "source": [
        "# Plot the price of the houses with respect to the square footage\n",
        "\n",
        "plt.title(\"Prices of Houses VS Square Footage\")\n",
        "plt.xlabel(\"Square Footage\")\n",
        "plt.ylabel(\"Price of houses\")\n",
        "plt.scatter(df10['sqrt_ft'], df10['sold_price'])"
      ],
      "metadata": {
        "colab": {
          "base_uri": "https://localhost:8080/",
          "height": 313
        },
        "id": "Kfy3kXOfeYVh",
        "outputId": "22a06911-782b-448d-cf28-ae4d0dc4bb20"
      },
      "execution_count": 358,
      "outputs": [
        {
          "output_type": "execute_result",
          "data": {
            "text/plain": [
              "<matplotlib.collections.PathCollection at 0x7fd2196f8d50>"
            ]
          },
          "metadata": {},
          "execution_count": 358
        },
        {
          "output_type": "display_data",
          "data": {
            "text/plain": [
              "<Figure size 432x288 with 1 Axes>"
            ],
            "image/png": "[encoded data removed]"
          },
          "metadata": {
            "needs_background": "light"
          }
        }
      ]
    },
    {
      "cell_type": "code",
      "source": [
        ""
      ],
      "metadata": {
        "id": "D9sJ_J8VfsW3"
      },
      "execution_count": null,
      "outputs": []
    }
  ]
}